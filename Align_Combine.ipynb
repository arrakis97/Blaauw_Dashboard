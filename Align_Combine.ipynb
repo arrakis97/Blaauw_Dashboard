{
 "cells": [
  {
   "cell_type": "code",
   "execution_count": null,
   "metadata": {
    "collapsed": true
   },
   "outputs": [],
   "source": [
    "class AlignCombine(CreatePlots):\n",
    "    align_button = param.Action(lambda x: x.param.trigger('align_button'), label='Align images')\n",
    "\n",
    "    def __init__(self, **params):\n",
    "        super().__init__(**params)\n",
    "        self.files_to_align = []\n",
    "        self.wrong_filter = False\n",
    "\n",
    "    def gather_files(self):\n",
    "        if len(self.selected_table_widget.selection) < 2:\n",
    "            return None\n",
    "        else:\n",
    "            filters = ['R', 'V', 'B']\n",
    "            self.files_to_align = []\n",
    "            for i in self.selected_table_widget.selected_dataframe.index:\n",
    "                home_dir = '../Data/Raw/'\n",
    "                file_name = self.data().loc[i, 'filename']\n",
    "                file_path = home_dir + self.give_file_name(file_name)\n",
    "                fits_file = fits.open(file_path)\n",
    "                file_filter = fits_file[0].header['FILTER']\n",
    "                fits_file.close()\n",
    "                if file_filter in filters:\n",
    "                    self.files_to_align.append(file_path)\n",
    "                else:\n",
    "                    self.wrong_filter = True\n",
    "                    return None\n",
    "            if len(self.files_to_align) < 2:\n",
    "                return None\n",
    "            return self.files_to_align\n",
    "\n",
    "    @param.depends('align_button', watch=True)\n",
    "    def align_images(self):\n",
    "        file_list = self.gather_files()\n",
    "        target = file_list[0]\n",
    "        # for i in range(1, len(file_list)):\n",
    "        #\n",
    "\n",
    "    @param.depends('align_button')\n",
    "    def align_selection_error(self):\n",
    "        if len(self.selected_table_widget.selection) < 2 or len(self.files_to_align) < 2:\n",
    "            message = \"You have to select at least two files with R, V or B filters if you want to align images.\"\n",
    "            pn.state.notifications.error(message, duration=0)\n",
    "\n",
    "    @param.depends('align_button')\n",
    "    def filter_selection_error(self):\n",
    "        if self.wrong_filter:\n",
    "            self.wrong_filter = False\n",
    "            message = \"You have to select files with R, V or B filters.\"\n",
    "            pn.state.notifications.error(message, duration=0)"
   ]
  }
 ],
 "metadata": {
  "kernelspec": {
   "display_name": "Python 3",
   "language": "python",
   "name": "python3"
  },
  "language_info": {
   "codemirror_mode": {
    "name": "ipython",
    "version": 2
   },
   "file_extension": ".py",
   "mimetype": "text/x-python",
   "name": "python",
   "nbconvert_exporter": "python",
   "pygments_lexer": "ipython2",
   "version": "2.7.6"
  }
 },
 "nbformat": 4,
 "nbformat_minor": 0
}