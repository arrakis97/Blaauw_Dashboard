{
 "cells": [
  {
   "cell_type": "code",
   "execution_count": 34,
   "metadata": {},
   "outputs": [
    {
     "data": {
      "application/javascript": "\n(function(root) {\n  function now() {\n    return new Date();\n  }\n\n  var force = true;\n\n  if (typeof root._bokeh_onload_callbacks === \"undefined\" || force === true) {\n    root._bokeh_onload_callbacks = [];\n    root._bokeh_is_loading = undefined;\n  }\n\n  if (typeof (root._bokeh_timeout) === \"undefined\" || force === true) {\n    root._bokeh_timeout = Date.now() + 5000;\n    root._bokeh_failed_load = false;\n  }\n\n  function run_callbacks() {\n    try {\n      root._bokeh_onload_callbacks.forEach(function(callback) {\n        if (callback != null)\n          callback();\n      });\n    } finally {\n      delete root._bokeh_onload_callbacks\n    }\n    console.debug(\"Bokeh: all callbacks have finished\");\n  }\n\n  function load_libs(css_urls, js_urls, js_modules, callback) {\n    if (css_urls == null) css_urls = [];\n    if (js_urls == null) js_urls = [];\n    if (js_modules == null) js_modules = [];\n\n    root._bokeh_onload_callbacks.push(callback);\n    if (root._bokeh_is_loading > 0) {\n      console.debug(\"Bokeh: BokehJS is being loaded, scheduling callback at\", now());\n      return null;\n    }\n    if (js_urls.length === 0 && js_modules.length === 0) {\n      run_callbacks();\n      return null;\n    }\n    console.debug(\"Bokeh: BokehJS not loaded, scheduling load and callback at\", now());\n\n    function on_load() {\n      root._bokeh_is_loading--;\n      if (root._bokeh_is_loading === 0) {\n        console.debug(\"Bokeh: all BokehJS libraries/stylesheets loaded\");\n        run_callbacks()\n      }\n    }\n\n    function on_error() {\n      console.error(\"failed to load \" + url);\n    }\n\n    for (var i = 0; i < css_urls.length; i++) {\n      var url = css_urls[i];\n      const element = document.createElement(\"link\");\n      element.onload = on_load;\n      element.onerror = on_error;\n      element.rel = \"stylesheet\";\n      element.type = \"text/css\";\n      element.href = url;\n      console.debug(\"Bokeh: injecting link tag for BokehJS stylesheet: \", url);\n      document.body.appendChild(element);\n    }\n\n    var skip = [];\n    if (window.requirejs) {\n      window.requirejs.config({'packages': {}, 'paths': {'tabulator': 'https://unpkg.com/tabulator-tables@4.9.3/dist/js/tabulator', 'moment': 'https://cdn.jsdelivr.net/npm/luxon/build/global/luxon.min', 'gridstack': 'https://cdn.jsdelivr.net/npm/gridstack@4.2.5/dist/gridstack-h5', 'notyf': 'https://cdn.jsdelivr.net/npm/notyf@3/notyf.min'}, 'shim': {'gridstack': {'exports': 'GridStack'}}});\n      \n      require([\"tabulator\"], function(Tabulator) {\n\t\n\twindow.Tabulator = Tabulator\n\t\n\ton_load()\n      })\n      \n      require([\"moment\"], function(moment) {\n\t\n\twindow.moment = moment\n\t\n\ton_load()\n      })\n      \n      require([\"gridstack\"], function(GridStack) {\n\t\n\twindow.GridStack = GridStack\n\t\n\ton_load()\n      })\n      \n      require([\"notyf\"], function() {\n\t\n\ton_load()\n      })\n      \n      root._bokeh_is_loading = css_urls.length + 4;\n    } else {\n      root._bokeh_is_loading = css_urls.length + js_urls.length + js_modules.length;\n    }\n    if (((window['Tabulator'] !== undefined) && (!(window['Tabulator'] instanceof HTMLElement))) || window.requirejs) {\n      var urls = ['https://unpkg.com/tabulator-tables@4.9.3/dist/js/tabulator.js'];\n      for (var i = 0; i < urls.length; i++) {\n        skip.push(urls[i])\n      }\n    }\n    if (((window['moment'] !== undefined) && (!(window['moment'] instanceof HTMLElement))) || window.requirejs) {\n      var urls = ['https://cdn.jsdelivr.net/npm/luxon/build/global/luxon.min.js'];\n      for (var i = 0; i < urls.length; i++) {\n        skip.push(urls[i])\n      }\n    }\n    if (((window['GridStack'] !== undefined) && (!(window['GridStack'] instanceof HTMLElement))) || window.requirejs) {\n      var urls = ['https://cdn.jsdelivr.net/npm/gridstack@4.2.5/dist/gridstack-h5.js'];\n      for (var i = 0; i < urls.length; i++) {\n        skip.push(urls[i])\n      }\n    }\n    if (((window['Notyf'] !== undefined) && (!(window['Notyf'] instanceof HTMLElement))) || window.requirejs) {\n      var urls = ['https://cdn.jsdelivr.net/npm/notyf@3/notyf.min.js'];\n      for (var i = 0; i < urls.length; i++) {\n        skip.push(urls[i])\n      }\n    }\n    for (var i = 0; i < js_urls.length; i++) {\n      var url = js_urls[i];\n      if (skip.indexOf(url) >= 0) {\n\tif (!window.requirejs) {\n\t  on_load();\n\t}\n\tcontinue;\n      }\n      var element = document.createElement('script');\n      element.onload = on_load;\n      element.onerror = on_error;\n      element.async = false;\n      element.src = url;\n      console.debug(\"Bokeh: injecting script tag for BokehJS library: \", url);\n      document.head.appendChild(element);\n    }\n    for (var i = 0; i < js_modules.length; i++) {\n      var url = js_modules[i];\n      if (skip.indexOf(url) >= 0) {\n\tif (!window.requirejs) {\n\t  on_load();\n\t}\n\tcontinue;\n      }\n      var element = document.createElement('script');\n      element.onload = on_load;\n      element.onerror = on_error;\n      element.async = false;\n      element.src = url;\n      element.type = \"module\";\n      console.debug(\"Bokeh: injecting script tag for BokehJS library: \", url);\n      document.head.appendChild(element);\n    }\n    if (!js_urls.length && !js_modules.length) {\n      on_load()\n    }\n  };\n\n  function inject_raw_css(css) {\n    const element = document.createElement(\"style\");\n    element.appendChild(document.createTextNode(css));\n    document.body.appendChild(element);\n  }\n\n  var js_urls = [\"https://unpkg.com/tabulator-tables@4.9.3/dist/js/tabulator.js\", \"https://cdn.jsdelivr.net/npm/luxon/build/global/luxon.min.js\", \"https://cdn.bokeh.org/bokeh/release/bokeh-2.4.2.min.js\", \"https://cdn.bokeh.org/bokeh/release/bokeh-gl-2.4.2.min.js\", \"https://cdn.bokeh.org/bokeh/release/bokeh-widgets-2.4.2.min.js\", \"https://cdn.bokeh.org/bokeh/release/bokeh-tables-2.4.2.min.js\", \"https://cdn.bokeh.org/bokeh/release/bokeh-mathjax-2.4.2.min.js\", \"https://cdn.jsdelivr.net/npm/notyf@3/notyf.min.js\", \"https://unpkg.com/@holoviz/panel@0.13.0/dist/panel.min.js\"];\n  var js_modules = [];\n  var css_urls = [\"https://unpkg.com/tabulator-tables@4.9.3/dist/css/tabulator_simple.min.css\", \"https://cdn.jsdelivr.net/npm/notyf@3/notyf.min.css\", \"https://cdnjs.cloudflare.com/ajax/libs/font-awesome/5.15.1/css/all.min.css\", \"https://unpkg.com/@holoviz/panel@0.13.0/dist/css/debugger.css\", \"https://unpkg.com/@holoviz/panel@0.13.0/dist/css/alerts.css\", \"https://unpkg.com/@holoviz/panel@0.13.0/dist/css/card.css\", \"https://unpkg.com/@holoviz/panel@0.13.0/dist/css/widgets.css\", \"https://unpkg.com/@holoviz/panel@0.13.0/dist/css/markdown.css\", \"https://unpkg.com/@holoviz/panel@0.13.0/dist/css/json.css\", \"https://unpkg.com/@holoviz/panel@0.13.0/dist/css/loading.css\", \"https://unpkg.com/@holoviz/panel@0.13.0/dist/css/dataframe.css\"];\n  var inline_js = [\n    function(Bokeh) {\n      inject_raw_css(\"\\n    .bk.pn-loading.arcs:before {\\n      background-image: url(\\\"data:image/svg+xml;base64,PHN2ZyB4bWxucz0iaHR0cDovL3d3dy53My5vcmcvMjAwMC9zdmciIHhtbG5zOnhsaW5rPSJodHRwOi8vd3d3LnczLm9yZy8xOTk5L3hsaW5rIiBzdHlsZT0ibWFyZ2luOiBhdXRvOyBiYWNrZ3JvdW5kOiBub25lOyBkaXNwbGF5OiBibG9jazsgc2hhcGUtcmVuZGVyaW5nOiBhdXRvOyIgdmlld0JveD0iMCAwIDEwMCAxMDAiIHByZXNlcnZlQXNwZWN0UmF0aW89InhNaWRZTWlkIj4gIDxjaXJjbGUgY3g9IjUwIiBjeT0iNTAiIHI9IjMyIiBzdHJva2Utd2lkdGg9IjgiIHN0cm9rZT0iI2MzYzNjMyIgc3Ryb2tlLWRhc2hhcnJheT0iNTAuMjY1NDgyNDU3NDM2NjkgNTAuMjY1NDgyNDU3NDM2NjkiIGZpbGw9Im5vbmUiIHN0cm9rZS1saW5lY2FwPSJyb3VuZCI+ICAgIDxhbmltYXRlVHJhbnNmb3JtIGF0dHJpYnV0ZU5hbWU9InRyYW5zZm9ybSIgdHlwZT0icm90YXRlIiByZXBlYXRDb3VudD0iaW5kZWZpbml0ZSIgZHVyPSIxcyIga2V5VGltZXM9IjA7MSIgdmFsdWVzPSIwIDUwIDUwOzM2MCA1MCA1MCI+PC9hbmltYXRlVHJhbnNmb3JtPiAgPC9jaXJjbGU+PC9zdmc+\\\");\\n      background-size: auto calc(min(50%, 400px));\\n    }\\n    \");\n    },\n    function(Bokeh) {\n      Bokeh.set_log_level(\"info\");\n    },\n    function(Bokeh) {} // ensure no trailing comma for IE\n  ];\n\n  function run_inline_js() {\n    if ((root.Bokeh !== undefined) || (force === true)) {\n      for (var i = 0; i < inline_js.length; i++) {\n        inline_js[i].call(root, root.Bokeh);\n      }} else if (Date.now() < root._bokeh_timeout) {\n      setTimeout(run_inline_js, 100);\n    } else if (!root._bokeh_failed_load) {\n      console.log(\"Bokeh: BokehJS failed to load within specified timeout.\");\n      root._bokeh_failed_load = true;\n    }\n  }\n\n  if (root._bokeh_is_loading === 0) {\n    console.debug(\"Bokeh: BokehJS loaded, going straight to plotting\");\n    run_inline_js();\n  } else {\n    load_libs(css_urls, js_urls, js_modules, function() {\n      console.debug(\"Bokeh: BokehJS plotting callback run at\", now());\n      run_inline_js();\n    });\n  }\n}(window));",
      "application/vnd.holoviews_load.v0+json": "\n(function(root) {\n  function now() {\n    return new Date();\n  }\n\n  var force = true;\n\n  if (typeof root._bokeh_onload_callbacks === \"undefined\" || force === true) {\n    root._bokeh_onload_callbacks = [];\n    root._bokeh_is_loading = undefined;\n  }\n\n  if (typeof (root._bokeh_timeout) === \"undefined\" || force === true) {\n    root._bokeh_timeout = Date.now() + 5000;\n    root._bokeh_failed_load = false;\n  }\n\n  function run_callbacks() {\n    try {\n      root._bokeh_onload_callbacks.forEach(function(callback) {\n        if (callback != null)\n          callback();\n      });\n    } finally {\n      delete root._bokeh_onload_callbacks\n    }\n    console.debug(\"Bokeh: all callbacks have finished\");\n  }\n\n  function load_libs(css_urls, js_urls, js_modules, callback) {\n    if (css_urls == null) css_urls = [];\n    if (js_urls == null) js_urls = [];\n    if (js_modules == null) js_modules = [];\n\n    root._bokeh_onload_callbacks.push(callback);\n    if (root._bokeh_is_loading > 0) {\n      console.debug(\"Bokeh: BokehJS is being loaded, scheduling callback at\", now());\n      return null;\n    }\n    if (js_urls.length === 0 && js_modules.length === 0) {\n      run_callbacks();\n      return null;\n    }\n    console.debug(\"Bokeh: BokehJS not loaded, scheduling load and callback at\", now());\n\n    function on_load() {\n      root._bokeh_is_loading--;\n      if (root._bokeh_is_loading === 0) {\n        console.debug(\"Bokeh: all BokehJS libraries/stylesheets loaded\");\n        run_callbacks()\n      }\n    }\n\n    function on_error() {\n      console.error(\"failed to load \" + url);\n    }\n\n    for (var i = 0; i < css_urls.length; i++) {\n      var url = css_urls[i];\n      const element = document.createElement(\"link\");\n      element.onload = on_load;\n      element.onerror = on_error;\n      element.rel = \"stylesheet\";\n      element.type = \"text/css\";\n      element.href = url;\n      console.debug(\"Bokeh: injecting link tag for BokehJS stylesheet: \", url);\n      document.body.appendChild(element);\n    }\n\n    var skip = [];\n    if (window.requirejs) {\n      window.requirejs.config({'packages': {}, 'paths': {'tabulator': 'https://unpkg.com/tabulator-tables@4.9.3/dist/js/tabulator', 'moment': 'https://cdn.jsdelivr.net/npm/luxon/build/global/luxon.min', 'gridstack': 'https://cdn.jsdelivr.net/npm/gridstack@4.2.5/dist/gridstack-h5', 'notyf': 'https://cdn.jsdelivr.net/npm/notyf@3/notyf.min'}, 'shim': {'gridstack': {'exports': 'GridStack'}}});\n      \n      require([\"tabulator\"], function(Tabulator) {\n\t\n\twindow.Tabulator = Tabulator\n\t\n\ton_load()\n      })\n      \n      require([\"moment\"], function(moment) {\n\t\n\twindow.moment = moment\n\t\n\ton_load()\n      })\n      \n      require([\"gridstack\"], function(GridStack) {\n\t\n\twindow.GridStack = GridStack\n\t\n\ton_load()\n      })\n      \n      require([\"notyf\"], function() {\n\t\n\ton_load()\n      })\n      \n      root._bokeh_is_loading = css_urls.length + 4;\n    } else {\n      root._bokeh_is_loading = css_urls.length + js_urls.length + js_modules.length;\n    }\n    if (((window['Tabulator'] !== undefined) && (!(window['Tabulator'] instanceof HTMLElement))) || window.requirejs) {\n      var urls = ['https://unpkg.com/tabulator-tables@4.9.3/dist/js/tabulator.js'];\n      for (var i = 0; i < urls.length; i++) {\n        skip.push(urls[i])\n      }\n    }\n    if (((window['moment'] !== undefined) && (!(window['moment'] instanceof HTMLElement))) || window.requirejs) {\n      var urls = ['https://cdn.jsdelivr.net/npm/luxon/build/global/luxon.min.js'];\n      for (var i = 0; i < urls.length; i++) {\n        skip.push(urls[i])\n      }\n    }\n    if (((window['GridStack'] !== undefined) && (!(window['GridStack'] instanceof HTMLElement))) || window.requirejs) {\n      var urls = ['https://cdn.jsdelivr.net/npm/gridstack@4.2.5/dist/gridstack-h5.js'];\n      for (var i = 0; i < urls.length; i++) {\n        skip.push(urls[i])\n      }\n    }\n    if (((window['Notyf'] !== undefined) && (!(window['Notyf'] instanceof HTMLElement))) || window.requirejs) {\n      var urls = ['https://cdn.jsdelivr.net/npm/notyf@3/notyf.min.js'];\n      for (var i = 0; i < urls.length; i++) {\n        skip.push(urls[i])\n      }\n    }\n    for (var i = 0; i < js_urls.length; i++) {\n      var url = js_urls[i];\n      if (skip.indexOf(url) >= 0) {\n\tif (!window.requirejs) {\n\t  on_load();\n\t}\n\tcontinue;\n      }\n      var element = document.createElement('script');\n      element.onload = on_load;\n      element.onerror = on_error;\n      element.async = false;\n      element.src = url;\n      console.debug(\"Bokeh: injecting script tag for BokehJS library: \", url);\n      document.head.appendChild(element);\n    }\n    for (var i = 0; i < js_modules.length; i++) {\n      var url = js_modules[i];\n      if (skip.indexOf(url) >= 0) {\n\tif (!window.requirejs) {\n\t  on_load();\n\t}\n\tcontinue;\n      }\n      var element = document.createElement('script');\n      element.onload = on_load;\n      element.onerror = on_error;\n      element.async = false;\n      element.src = url;\n      element.type = \"module\";\n      console.debug(\"Bokeh: injecting script tag for BokehJS library: \", url);\n      document.head.appendChild(element);\n    }\n    if (!js_urls.length && !js_modules.length) {\n      on_load()\n    }\n  };\n\n  function inject_raw_css(css) {\n    const element = document.createElement(\"style\");\n    element.appendChild(document.createTextNode(css));\n    document.body.appendChild(element);\n  }\n\n  var js_urls = [\"https://unpkg.com/tabulator-tables@4.9.3/dist/js/tabulator.js\", \"https://cdn.jsdelivr.net/npm/luxon/build/global/luxon.min.js\", \"https://cdn.bokeh.org/bokeh/release/bokeh-2.4.2.min.js\", \"https://cdn.bokeh.org/bokeh/release/bokeh-gl-2.4.2.min.js\", \"https://cdn.bokeh.org/bokeh/release/bokeh-widgets-2.4.2.min.js\", \"https://cdn.bokeh.org/bokeh/release/bokeh-tables-2.4.2.min.js\", \"https://cdn.bokeh.org/bokeh/release/bokeh-mathjax-2.4.2.min.js\", \"https://cdn.jsdelivr.net/npm/notyf@3/notyf.min.js\", \"https://unpkg.com/@holoviz/panel@0.13.0/dist/panel.min.js\"];\n  var js_modules = [];\n  var css_urls = [\"https://unpkg.com/tabulator-tables@4.9.3/dist/css/tabulator_simple.min.css\", \"https://cdn.jsdelivr.net/npm/notyf@3/notyf.min.css\", \"https://cdnjs.cloudflare.com/ajax/libs/font-awesome/5.15.1/css/all.min.css\", \"https://unpkg.com/@holoviz/panel@0.13.0/dist/css/debugger.css\", \"https://unpkg.com/@holoviz/panel@0.13.0/dist/css/alerts.css\", \"https://unpkg.com/@holoviz/panel@0.13.0/dist/css/card.css\", \"https://unpkg.com/@holoviz/panel@0.13.0/dist/css/widgets.css\", \"https://unpkg.com/@holoviz/panel@0.13.0/dist/css/markdown.css\", \"https://unpkg.com/@holoviz/panel@0.13.0/dist/css/json.css\", \"https://unpkg.com/@holoviz/panel@0.13.0/dist/css/loading.css\", \"https://unpkg.com/@holoviz/panel@0.13.0/dist/css/dataframe.css\"];\n  var inline_js = [\n    function(Bokeh) {\n      inject_raw_css(\"\\n    .bk.pn-loading.arcs:before {\\n      background-image: url(\\\"data:image/svg+xml;base64,PHN2ZyB4bWxucz0iaHR0cDovL3d3dy53My5vcmcvMjAwMC9zdmciIHhtbG5zOnhsaW5rPSJodHRwOi8vd3d3LnczLm9yZy8xOTk5L3hsaW5rIiBzdHlsZT0ibWFyZ2luOiBhdXRvOyBiYWNrZ3JvdW5kOiBub25lOyBkaXNwbGF5OiBibG9jazsgc2hhcGUtcmVuZGVyaW5nOiBhdXRvOyIgdmlld0JveD0iMCAwIDEwMCAxMDAiIHByZXNlcnZlQXNwZWN0UmF0aW89InhNaWRZTWlkIj4gIDxjaXJjbGUgY3g9IjUwIiBjeT0iNTAiIHI9IjMyIiBzdHJva2Utd2lkdGg9IjgiIHN0cm9rZT0iI2MzYzNjMyIgc3Ryb2tlLWRhc2hhcnJheT0iNTAuMjY1NDgyNDU3NDM2NjkgNTAuMjY1NDgyNDU3NDM2NjkiIGZpbGw9Im5vbmUiIHN0cm9rZS1saW5lY2FwPSJyb3VuZCI+ICAgIDxhbmltYXRlVHJhbnNmb3JtIGF0dHJpYnV0ZU5hbWU9InRyYW5zZm9ybSIgdHlwZT0icm90YXRlIiByZXBlYXRDb3VudD0iaW5kZWZpbml0ZSIgZHVyPSIxcyIga2V5VGltZXM9IjA7MSIgdmFsdWVzPSIwIDUwIDUwOzM2MCA1MCA1MCI+PC9hbmltYXRlVHJhbnNmb3JtPiAgPC9jaXJjbGU+PC9zdmc+\\\");\\n      background-size: auto calc(min(50%, 400px));\\n    }\\n    \");\n    },\n    function(Bokeh) {\n      Bokeh.set_log_level(\"info\");\n    },\n    function(Bokeh) {} // ensure no trailing comma for IE\n  ];\n\n  function run_inline_js() {\n    if ((root.Bokeh !== undefined) || (force === true)) {\n      for (var i = 0; i < inline_js.length; i++) {\n        inline_js[i].call(root, root.Bokeh);\n      }} else if (Date.now() < root._bokeh_timeout) {\n      setTimeout(run_inline_js, 100);\n    } else if (!root._bokeh_failed_load) {\n      console.log(\"Bokeh: BokehJS failed to load within specified timeout.\");\n      root._bokeh_failed_load = true;\n    }\n  }\n\n  if (root._bokeh_is_loading === 0) {\n    console.debug(\"Bokeh: BokehJS loaded, going straight to plotting\");\n    run_inline_js();\n  } else {\n    load_libs(css_urls, js_urls, js_modules, function() {\n      console.debug(\"Bokeh: BokehJS plotting callback run at\", now());\n      run_inline_js();\n    });\n  }\n}(window));"
     },
     "metadata": {},
     "output_type": "display_data"
    },
    {
     "data": {
      "application/vnd.holoviews_load.v0+json": "\nif ((window.PyViz === undefined) || (window.PyViz instanceof HTMLElement)) {\n  window.PyViz = {comms: {}, comm_status:{}, kernels:{}, receivers: {}, plot_index: []}\n}\n\n\n    function JupyterCommManager() {\n    }\n\n    JupyterCommManager.prototype.register_target = function(plot_id, comm_id, msg_handler) {\n      if (window.comm_manager || ((window.Jupyter !== undefined) && (Jupyter.notebook.kernel != null))) {\n        var comm_manager = window.comm_manager || Jupyter.notebook.kernel.comm_manager;\n        comm_manager.register_target(comm_id, function(comm) {\n          comm.on_msg(msg_handler);\n        });\n      } else if ((plot_id in window.PyViz.kernels) && (window.PyViz.kernels[plot_id])) {\n        window.PyViz.kernels[plot_id].registerCommTarget(comm_id, function(comm) {\n          comm.onMsg = msg_handler;\n        });\n      } else if (typeof google != 'undefined' && google.colab.kernel != null) {\n        google.colab.kernel.comms.registerTarget(comm_id, (comm) => {\n          var messages = comm.messages[Symbol.asyncIterator]();\n          function processIteratorResult(result) {\n            var message = result.value;\n            console.log(message)\n            var content = {data: message.data, comm_id};\n            var buffers = []\n            for (var buffer of message.buffers || []) {\n              buffers.push(new DataView(buffer))\n            }\n            var metadata = message.metadata || {};\n            var msg = {content, buffers, metadata}\n            msg_handler(msg);\n            return messages.next().then(processIteratorResult);\n          }\n          return messages.next().then(processIteratorResult);\n        })\n      }\n    }\n\n    JupyterCommManager.prototype.get_client_comm = function(plot_id, comm_id, msg_handler) {\n      if (comm_id in window.PyViz.comms) {\n        return window.PyViz.comms[comm_id];\n      } else if (window.comm_manager || ((window.Jupyter !== undefined) && (Jupyter.notebook.kernel != null))) {\n        var comm_manager = window.comm_manager || Jupyter.notebook.kernel.comm_manager;\n        var comm = comm_manager.new_comm(comm_id, {}, {}, {}, comm_id);\n        if (msg_handler) {\n          comm.on_msg(msg_handler);\n        }\n      } else if ((plot_id in window.PyViz.kernels) && (window.PyViz.kernels[plot_id])) {\n        var comm = window.PyViz.kernels[plot_id].connectToComm(comm_id);\n        comm.open();\n        if (msg_handler) {\n          comm.onMsg = msg_handler;\n        }\n      } else if (typeof google != 'undefined' && google.colab.kernel != null) {\n        var comm_promise = google.colab.kernel.comms.open(comm_id)\n        comm_promise.then((comm) => {\n          window.PyViz.comms[comm_id] = comm;\n          if (msg_handler) {\n            var messages = comm.messages[Symbol.asyncIterator]();\n            function processIteratorResult(result) {\n              var message = result.value;\n              var content = {data: message.data};\n              var metadata = message.metadata || {comm_id};\n              var msg = {content, metadata}\n              msg_handler(msg);\n              return messages.next().then(processIteratorResult);\n            }\n            return messages.next().then(processIteratorResult);\n          }\n        }) \n        var sendClosure = (data, metadata, buffers, disposeOnDone) => {\n          return comm_promise.then((comm) => {\n            comm.send(data, metadata, buffers, disposeOnDone);\n          });\n        };\n        var comm = {\n          send: sendClosure\n        };\n      }\n      window.PyViz.comms[comm_id] = comm;\n      return comm;\n    }\n    window.PyViz.comm_manager = new JupyterCommManager();\n    \n\n\nvar JS_MIME_TYPE = 'application/javascript';\nvar HTML_MIME_TYPE = 'text/html';\nvar EXEC_MIME_TYPE = 'application/vnd.holoviews_exec.v0+json';\nvar CLASS_NAME = 'output';\n\n/**\n * Render data to the DOM node\n */\nfunction render(props, node) {\n  var div = document.createElement(\"div\");\n  var script = document.createElement(\"script\");\n  node.appendChild(div);\n  node.appendChild(script);\n}\n\n/**\n * Handle when a new output is added\n */\nfunction handle_add_output(event, handle) {\n  var output_area = handle.output_area;\n  var output = handle.output;\n  if ((output.data == undefined) || (!output.data.hasOwnProperty(EXEC_MIME_TYPE))) {\n    return\n  }\n  var id = output.metadata[EXEC_MIME_TYPE][\"id\"];\n  var toinsert = output_area.element.find(\".\" + CLASS_NAME.split(' ')[0]);\n  if (id !== undefined) {\n    var nchildren = toinsert.length;\n    var html_node = toinsert[nchildren-1].children[0];\n    html_node.innerHTML = output.data[HTML_MIME_TYPE];\n    var scripts = [];\n    var nodelist = html_node.querySelectorAll(\"script\");\n    for (var i in nodelist) {\n      if (nodelist.hasOwnProperty(i)) {\n        scripts.push(nodelist[i])\n      }\n    }\n\n    scripts.forEach( function (oldScript) {\n      var newScript = document.createElement(\"script\");\n      var attrs = [];\n      var nodemap = oldScript.attributes;\n      for (var j in nodemap) {\n        if (nodemap.hasOwnProperty(j)) {\n          attrs.push(nodemap[j])\n        }\n      }\n      attrs.forEach(function(attr) { newScript.setAttribute(attr.name, attr.value) });\n      newScript.appendChild(document.createTextNode(oldScript.innerHTML));\n      oldScript.parentNode.replaceChild(newScript, oldScript);\n    });\n    if (JS_MIME_TYPE in output.data) {\n      toinsert[nchildren-1].children[1].textContent = output.data[JS_MIME_TYPE];\n    }\n    output_area._hv_plot_id = id;\n    if ((window.Bokeh !== undefined) && (id in Bokeh.index)) {\n      window.PyViz.plot_index[id] = Bokeh.index[id];\n    } else {\n      window.PyViz.plot_index[id] = null;\n    }\n  } else if (output.metadata[EXEC_MIME_TYPE][\"server_id\"] !== undefined) {\n    var bk_div = document.createElement(\"div\");\n    bk_div.innerHTML = output.data[HTML_MIME_TYPE];\n    var script_attrs = bk_div.children[0].attributes;\n    for (var i = 0; i < script_attrs.length; i++) {\n      toinsert[toinsert.length - 1].childNodes[1].setAttribute(script_attrs[i].name, script_attrs[i].value);\n    }\n    // store reference to server id on output_area\n    output_area._bokeh_server_id = output.metadata[EXEC_MIME_TYPE][\"server_id\"];\n  }\n}\n\n/**\n * Handle when an output is cleared or removed\n */\nfunction handle_clear_output(event, handle) {\n  var id = handle.cell.output_area._hv_plot_id;\n  var server_id = handle.cell.output_area._bokeh_server_id;\n  if (((id === undefined) || !(id in PyViz.plot_index)) && (server_id !== undefined)) { return; }\n  var comm = window.PyViz.comm_manager.get_client_comm(\"hv-extension-comm\", \"hv-extension-comm\", function () {});\n  if (server_id !== null) {\n    comm.send({event_type: 'server_delete', 'id': server_id});\n    return;\n  } else if (comm !== null) {\n    comm.send({event_type: 'delete', 'id': id});\n  }\n  delete PyViz.plot_index[id];\n  if ((window.Bokeh !== undefined) & (id in window.Bokeh.index)) {\n    var doc = window.Bokeh.index[id].model.document\n    doc.clear();\n    const i = window.Bokeh.documents.indexOf(doc);\n    if (i > -1) {\n      window.Bokeh.documents.splice(i, 1);\n    }\n  }\n}\n\n/**\n * Handle kernel restart event\n */\nfunction handle_kernel_cleanup(event, handle) {\n  delete PyViz.comms[\"hv-extension-comm\"];\n  window.PyViz.plot_index = {}\n}\n\n/**\n * Handle update_display_data messages\n */\nfunction handle_update_output(event, handle) {\n  handle_clear_output(event, {cell: {output_area: handle.output_area}})\n  handle_add_output(event, handle)\n}\n\nfunction register_renderer(events, OutputArea) {\n  function append_mime(data, metadata, element) {\n    // create a DOM node to render to\n    var toinsert = this.create_output_subarea(\n    metadata,\n    CLASS_NAME,\n    EXEC_MIME_TYPE\n    );\n    this.keyboard_manager.register_events(toinsert);\n    // Render to node\n    var props = {data: data, metadata: metadata[EXEC_MIME_TYPE]};\n    render(props, toinsert[0]);\n    element.append(toinsert);\n    return toinsert\n  }\n\n  events.on('output_added.OutputArea', handle_add_output);\n  events.on('output_updated.OutputArea', handle_update_output);\n  events.on('clear_output.CodeCell', handle_clear_output);\n  events.on('delete.Cell', handle_clear_output);\n  events.on('kernel_ready.Kernel', handle_kernel_cleanup);\n\n  OutputArea.prototype.register_mime_type(EXEC_MIME_TYPE, append_mime, {\n    safe: true,\n    index: 0\n  });\n}\n\nif (window.Jupyter !== undefined) {\n  try {\n    var events = require('base/js/events');\n    var OutputArea = require('notebook/js/outputarea').OutputArea;\n    if (OutputArea.prototype.mime_types().indexOf(EXEC_MIME_TYPE) == -1) {\n      register_renderer(events, OutputArea);\n    }\n  } catch(err) {\n  }\n}\n",
      "application/javascript": "\nif ((window.PyViz === undefined) || (window.PyViz instanceof HTMLElement)) {\n  window.PyViz = {comms: {}, comm_status:{}, kernels:{}, receivers: {}, plot_index: []}\n}\n\n\n    function JupyterCommManager() {\n    }\n\n    JupyterCommManager.prototype.register_target = function(plot_id, comm_id, msg_handler) {\n      if (window.comm_manager || ((window.Jupyter !== undefined) && (Jupyter.notebook.kernel != null))) {\n        var comm_manager = window.comm_manager || Jupyter.notebook.kernel.comm_manager;\n        comm_manager.register_target(comm_id, function(comm) {\n          comm.on_msg(msg_handler);\n        });\n      } else if ((plot_id in window.PyViz.kernels) && (window.PyViz.kernels[plot_id])) {\n        window.PyViz.kernels[plot_id].registerCommTarget(comm_id, function(comm) {\n          comm.onMsg = msg_handler;\n        });\n      } else if (typeof google != 'undefined' && google.colab.kernel != null) {\n        google.colab.kernel.comms.registerTarget(comm_id, (comm) => {\n          var messages = comm.messages[Symbol.asyncIterator]();\n          function processIteratorResult(result) {\n            var message = result.value;\n            console.log(message)\n            var content = {data: message.data, comm_id};\n            var buffers = []\n            for (var buffer of message.buffers || []) {\n              buffers.push(new DataView(buffer))\n            }\n            var metadata = message.metadata || {};\n            var msg = {content, buffers, metadata}\n            msg_handler(msg);\n            return messages.next().then(processIteratorResult);\n          }\n          return messages.next().then(processIteratorResult);\n        })\n      }\n    }\n\n    JupyterCommManager.prototype.get_client_comm = function(plot_id, comm_id, msg_handler) {\n      if (comm_id in window.PyViz.comms) {\n        return window.PyViz.comms[comm_id];\n      } else if (window.comm_manager || ((window.Jupyter !== undefined) && (Jupyter.notebook.kernel != null))) {\n        var comm_manager = window.comm_manager || Jupyter.notebook.kernel.comm_manager;\n        var comm = comm_manager.new_comm(comm_id, {}, {}, {}, comm_id);\n        if (msg_handler) {\n          comm.on_msg(msg_handler);\n        }\n      } else if ((plot_id in window.PyViz.kernels) && (window.PyViz.kernels[plot_id])) {\n        var comm = window.PyViz.kernels[plot_id].connectToComm(comm_id);\n        comm.open();\n        if (msg_handler) {\n          comm.onMsg = msg_handler;\n        }\n      } else if (typeof google != 'undefined' && google.colab.kernel != null) {\n        var comm_promise = google.colab.kernel.comms.open(comm_id)\n        comm_promise.then((comm) => {\n          window.PyViz.comms[comm_id] = comm;\n          if (msg_handler) {\n            var messages = comm.messages[Symbol.asyncIterator]();\n            function processIteratorResult(result) {\n              var message = result.value;\n              var content = {data: message.data};\n              var metadata = message.metadata || {comm_id};\n              var msg = {content, metadata}\n              msg_handler(msg);\n              return messages.next().then(processIteratorResult);\n            }\n            return messages.next().then(processIteratorResult);\n          }\n        }) \n        var sendClosure = (data, metadata, buffers, disposeOnDone) => {\n          return comm_promise.then((comm) => {\n            comm.send(data, metadata, buffers, disposeOnDone);\n          });\n        };\n        var comm = {\n          send: sendClosure\n        };\n      }\n      window.PyViz.comms[comm_id] = comm;\n      return comm;\n    }\n    window.PyViz.comm_manager = new JupyterCommManager();\n    \n\n\nvar JS_MIME_TYPE = 'application/javascript';\nvar HTML_MIME_TYPE = 'text/html';\nvar EXEC_MIME_TYPE = 'application/vnd.holoviews_exec.v0+json';\nvar CLASS_NAME = 'output';\n\n/**\n * Render data to the DOM node\n */\nfunction render(props, node) {\n  var div = document.createElement(\"div\");\n  var script = document.createElement(\"script\");\n  node.appendChild(div);\n  node.appendChild(script);\n}\n\n/**\n * Handle when a new output is added\n */\nfunction handle_add_output(event, handle) {\n  var output_area = handle.output_area;\n  var output = handle.output;\n  if ((output.data == undefined) || (!output.data.hasOwnProperty(EXEC_MIME_TYPE))) {\n    return\n  }\n  var id = output.metadata[EXEC_MIME_TYPE][\"id\"];\n  var toinsert = output_area.element.find(\".\" + CLASS_NAME.split(' ')[0]);\n  if (id !== undefined) {\n    var nchildren = toinsert.length;\n    var html_node = toinsert[nchildren-1].children[0];\n    html_node.innerHTML = output.data[HTML_MIME_TYPE];\n    var scripts = [];\n    var nodelist = html_node.querySelectorAll(\"script\");\n    for (var i in nodelist) {\n      if (nodelist.hasOwnProperty(i)) {\n        scripts.push(nodelist[i])\n      }\n    }\n\n    scripts.forEach( function (oldScript) {\n      var newScript = document.createElement(\"script\");\n      var attrs = [];\n      var nodemap = oldScript.attributes;\n      for (var j in nodemap) {\n        if (nodemap.hasOwnProperty(j)) {\n          attrs.push(nodemap[j])\n        }\n      }\n      attrs.forEach(function(attr) { newScript.setAttribute(attr.name, attr.value) });\n      newScript.appendChild(document.createTextNode(oldScript.innerHTML));\n      oldScript.parentNode.replaceChild(newScript, oldScript);\n    });\n    if (JS_MIME_TYPE in output.data) {\n      toinsert[nchildren-1].children[1].textContent = output.data[JS_MIME_TYPE];\n    }\n    output_area._hv_plot_id = id;\n    if ((window.Bokeh !== undefined) && (id in Bokeh.index)) {\n      window.PyViz.plot_index[id] = Bokeh.index[id];\n    } else {\n      window.PyViz.plot_index[id] = null;\n    }\n  } else if (output.metadata[EXEC_MIME_TYPE][\"server_id\"] !== undefined) {\n    var bk_div = document.createElement(\"div\");\n    bk_div.innerHTML = output.data[HTML_MIME_TYPE];\n    var script_attrs = bk_div.children[0].attributes;\n    for (var i = 0; i < script_attrs.length; i++) {\n      toinsert[toinsert.length - 1].childNodes[1].setAttribute(script_attrs[i].name, script_attrs[i].value);\n    }\n    // store reference to server id on output_area\n    output_area._bokeh_server_id = output.metadata[EXEC_MIME_TYPE][\"server_id\"];\n  }\n}\n\n/**\n * Handle when an output is cleared or removed\n */\nfunction handle_clear_output(event, handle) {\n  var id = handle.cell.output_area._hv_plot_id;\n  var server_id = handle.cell.output_area._bokeh_server_id;\n  if (((id === undefined) || !(id in PyViz.plot_index)) && (server_id !== undefined)) { return; }\n  var comm = window.PyViz.comm_manager.get_client_comm(\"hv-extension-comm\", \"hv-extension-comm\", function () {});\n  if (server_id !== null) {\n    comm.send({event_type: 'server_delete', 'id': server_id});\n    return;\n  } else if (comm !== null) {\n    comm.send({event_type: 'delete', 'id': id});\n  }\n  delete PyViz.plot_index[id];\n  if ((window.Bokeh !== undefined) & (id in window.Bokeh.index)) {\n    var doc = window.Bokeh.index[id].model.document\n    doc.clear();\n    const i = window.Bokeh.documents.indexOf(doc);\n    if (i > -1) {\n      window.Bokeh.documents.splice(i, 1);\n    }\n  }\n}\n\n/**\n * Handle kernel restart event\n */\nfunction handle_kernel_cleanup(event, handle) {\n  delete PyViz.comms[\"hv-extension-comm\"];\n  window.PyViz.plot_index = {}\n}\n\n/**\n * Handle update_display_data messages\n */\nfunction handle_update_output(event, handle) {\n  handle_clear_output(event, {cell: {output_area: handle.output_area}})\n  handle_add_output(event, handle)\n}\n\nfunction register_renderer(events, OutputArea) {\n  function append_mime(data, metadata, element) {\n    // create a DOM node to render to\n    var toinsert = this.create_output_subarea(\n    metadata,\n    CLASS_NAME,\n    EXEC_MIME_TYPE\n    );\n    this.keyboard_manager.register_events(toinsert);\n    // Render to node\n    var props = {data: data, metadata: metadata[EXEC_MIME_TYPE]};\n    render(props, toinsert[0]);\n    element.append(toinsert);\n    return toinsert\n  }\n\n  events.on('output_added.OutputArea', handle_add_output);\n  events.on('output_updated.OutputArea', handle_update_output);\n  events.on('clear_output.CodeCell', handle_clear_output);\n  events.on('delete.Cell', handle_clear_output);\n  events.on('kernel_ready.Kernel', handle_kernel_cleanup);\n\n  OutputArea.prototype.register_mime_type(EXEC_MIME_TYPE, append_mime, {\n    safe: true,\n    index: 0\n  });\n}\n\nif (window.Jupyter !== undefined) {\n  try {\n    var events = require('base/js/events');\n    var OutputArea = require('notebook/js/outputarea').OutputArea;\n    if (OutputArea.prototype.mime_types().indexOf(EXEC_MIME_TYPE) == -1) {\n      register_renderer(events, OutputArea);\n    }\n  } catch(err) {\n  }\n}\n"
     },
     "metadata": {},
     "output_type": "display_data"
    },
    {
     "data": {
      "text/html": "<style>.bk-root, .bk-root .bk:before, .bk-root .bk:after {\n  font-family: var(--jp-ui-font-size1);\n  font-size: var(--jp-ui-font-size1);\n  color: var(--jp-ui-font-color1);\n}\n</style>"
     },
     "metadata": {},
     "output_type": "display_data"
    },
    {
     "data": {},
     "metadata": {},
     "output_type": "display_data"
    },
    {
     "data": {
      "text/html": "<div id='1007'>\n\n\n\n\n\n  <div class=\"bk-root\" id=\"ba4b74fc-67c4-4262-a795-2a31e28c2828\" data-root-id=\"1007\"></div>\n</div>\n<script type=\"application/javascript\">(function(root) {\n  function embed_document(root) {\n    var docs_json = {\"819836a2-372e-48b3-8196-cdd04ce04619\":{\"defs\":[{\"extends\":null,\"module\":null,\"name\":\"ReactiveHTML1\",\"overrides\":[],\"properties\":[]},{\"extends\":null,\"module\":null,\"name\":\"FlexBox1\",\"overrides\":[],\"properties\":[{\"default\":\"flex-start\",\"kind\":null,\"name\":\"align_content\"},{\"default\":\"flex-start\",\"kind\":null,\"name\":\"align_items\"},{\"default\":\"row\",\"kind\":null,\"name\":\"flex_direction\"},{\"default\":\"wrap\",\"kind\":null,\"name\":\"flex_wrap\"},{\"default\":\"flex-start\",\"kind\":null,\"name\":\"justify_content\"}]},{\"extends\":null,\"module\":null,\"name\":\"GridStack1\",\"overrides\":[],\"properties\":[{\"default\":\"warn\",\"kind\":null,\"name\":\"mode\"},{\"default\":null,\"kind\":null,\"name\":\"ncols\"},{\"default\":null,\"kind\":null,\"name\":\"nrows\"},{\"default\":true,\"kind\":null,\"name\":\"allow_resize\"},{\"default\":true,\"kind\":null,\"name\":\"allow_drag\"},{\"default\":[],\"kind\":null,\"name\":\"state\"}]},{\"extends\":null,\"module\":null,\"name\":\"click1\",\"overrides\":[],\"properties\":[{\"default\":\"\",\"kind\":null,\"name\":\"terminal_output\"},{\"default\":\"\",\"kind\":null,\"name\":\"debug_name\"},{\"default\":0,\"kind\":null,\"name\":\"clears\"}]},{\"extends\":null,\"module\":null,\"name\":\"TemplateActions1\",\"overrides\":[],\"properties\":[{\"default\":0,\"kind\":null,\"name\":\"open_modal\"},{\"default\":0,\"kind\":null,\"name\":\"close_modal\"}]},{\"extends\":null,\"module\":null,\"name\":\"MaterialTemplateActions1\",\"overrides\":[],\"properties\":[{\"default\":0,\"kind\":null,\"name\":\"open_modal\"},{\"default\":0,\"kind\":null,\"name\":\"close_modal\"}]},{\"extends\":null,\"module\":null,\"name\":\"NotificationAreaBase1\",\"overrides\":[],\"properties\":[{\"default\":\"bottom-right\",\"kind\":null,\"name\":\"position\"},{\"default\":0,\"kind\":null,\"name\":\"_clear\"}]},{\"extends\":null,\"module\":null,\"name\":\"NotificationArea1\",\"overrides\":[],\"properties\":[{\"default\":[],\"kind\":null,\"name\":\"notifications\"},{\"default\":\"bottom-right\",\"kind\":null,\"name\":\"position\"},{\"default\":0,\"kind\":null,\"name\":\"_clear\"},{\"default\":[{\"background\":\"#ffc107\",\"icon\":{\"className\":\"fas fa-exclamation-triangle\",\"color\":\"white\",\"tagName\":\"i\"},\"type\":\"warning\"},{\"background\":\"#007bff\",\"icon\":{\"className\":\"fas fa-info-circle\",\"color\":\"white\",\"tagName\":\"i\"},\"type\":\"info\"}],\"kind\":null,\"name\":\"types\"}]},{\"extends\":null,\"module\":null,\"name\":\"Notification\",\"overrides\":[],\"properties\":[{\"default\":null,\"kind\":null,\"name\":\"background\"},{\"default\":3000,\"kind\":null,\"name\":\"duration\"},{\"default\":null,\"kind\":null,\"name\":\"icon\"},{\"default\":\"\",\"kind\":null,\"name\":\"message\"},{\"default\":null,\"kind\":null,\"name\":\"notification_type\"},{\"default\":false,\"kind\":null,\"name\":\"_destroyed\"}]}],\"roots\":{\"references\":[{\"attributes\":{\"client_comm_id\":\"d6d20251b8e74637a8d1f2f47ab7e8ef\",\"comm_id\":\"ad94d5a3d8a94a8a88d7b478e2efa1e7\",\"plot_id\":\"1007\"},\"id\":\"1008\",\"type\":\"panel.models.comm_manager.CommManager\"},{\"attributes\":{\"name\":\"NotificationArea00100\"},\"id\":\"1006\",\"type\":\"NotificationArea1\"},{\"attributes\":{\"data\":{\"id\":\"1006\"},\"margin\":[5,5,5,5],\"scripts\":{\"_clear\":[\"state.toaster.dismissAll()\"],\"notifications\":[\"var notification = state.current || data.notifications[data.notifications.length-1]\\nif (notification._destroyed) {\\n  return\\n}\\nvar config = {\\n  duration: notification.duration,\\n  type: notification.notification_type,\\n  message: notification.message\\n}\\nif (notification.background != null) {\\n  config.background = notification.background;\\n}\\nif (notification.icon != null) {\\n  config.icon = notification.icon;\\n}\\nvar toast = state.toaster.open(config);\\nfunction destroy() {\\n  if (state.current !== notification) {\\n    notification._destroyed = true;\\n  }\\n}\\ntoast.on(&#x27;dismiss&#x27;, destroy)\\nif (notification.duration) {\\n  setTimeout(destroy, notification.duration)\\n}\\nif (notification.properties === undefined)\\n  return\\nview.connect(notification.properties._destroyed.change, function () {\\n  state.toaster.dismiss(toast)\\n})\"],\"position\":[\"script(&#x27;_clear&#x27;);\\nscript(&#x27;render&#x27;);\\nfor (notification of data.notifications) {\\n  state.current = notification;\\n  script(&#x27;notifications&#x27;);\\n}\\nstate.current = undefined\"],\"render\":[\"var [y, x] = data.position.split(&#x27;-&#x27;)\\nstate.toaster = new Notyf({\\n  dismissible: true,\\n  position: {x: x, y: y},\\n  types: data.types\\n})\"]},\"sizing_mode\":\"stretch_width\",\"subscribed_events\":[\"dom_event\"]},\"id\":\"1007\",\"type\":\"panel.models.reactive_html.ReactiveHTML\"}],\"root_ids\":[\"1007\",\"1008\"]},\"title\":\"Bokeh Application\",\"version\":\"2.4.2\"}};\n    var render_items = [{\"docid\":\"819836a2-372e-48b3-8196-cdd04ce04619\",\"root_ids\":[\"1007\"],\"roots\":{\"1007\":\"ba4b74fc-67c4-4262-a795-2a31e28c2828\"}}];\n    root.Bokeh.embed.embed_items_notebook(docs_json, render_items);\n  }\n  if (root.Bokeh !== undefined && root.Bokeh.Panel !== undefined && ( root['Tabulator'] !== undefined)) {\n    embed_document(root);\n  } else {\n    var attempts = 0;\n    var timer = setInterval(function(root) {\n      if (root.Bokeh !== undefined && root.Bokeh.Panel !== undefined && (root['Tabulator'] !== undefined)) {\n        clearInterval(timer);\n        embed_document(root);\n      } else if (document.readyState == \"complete\") {\n        attempts++;\n        if (attempts > 200) {\n          clearInterval(timer);\n          console.log(\"Bokeh: ERROR: Unable to run BokehJS code because BokehJS library is missing\");\n        }\n      }\n    }, 25, root)\n  }\n})(window);</script>",
      "application/vnd.holoviews_exec.v0+json": "",
      "text/plain": "NotificationArea(sizing_mode='stretch_width')"
     },
     "metadata": {
      "application/vnd.holoviews_exec.v0+json": {
       "id": "1007"
      }
     },
     "output_type": "display_data"
    }
   ],
   "source": [
    "import panel as pn\n",
    "pn.extension('tabulator', sizing_mode='stretch_width', notifications=True)\n",
    "from panel.io.notifications import NotificationArea\n",
    "NotificationArea.position = 'bottom-right'\n",
    "\n",
    "import pyvo as vo\n",
    "import datetime as dt\n",
    "from astropy.time import Time\n",
    "import param\n",
    "from pypika import Table, Criterion, EmptyCriterion, Order\n",
    "import pandas as pd\n",
    "from astroquery.simbad import Simbad\n",
    "from astropy.coordinates import SkyCoord\n",
    "from astropy import units as u\n",
    "import warnings\n",
    "from astroquery.exceptions import TableParseError\n",
    "from astropy.io import fits\n",
    "from matplotlib.figure import Figure\n",
    "from matplotlib import cm\n",
    "import numpy as np\n",
    "from pathlib import Path\n",
    "from astropy.coordinates import Angle\n",
    "\n",
    "#NAXIS1 IS X IS RA\n",
    "#NAXIS2 IS Y IS DEC"
   ]
  },
  {
   "cell_type": "code",
   "execution_count": 2,
   "metadata": {
    "pycharm": {
     "name": "#%%\n"
    }
   },
   "outputs": [],
   "source": [
    "url = \"https://vo.astro.rug.nl/tap\"\n",
    "service = vo.dal.TAPService(url)"
   ]
  },
  {
   "cell_type": "code",
   "execution_count": 3,
   "metadata": {
    "pycharm": {
     "name": "#%%\n"
    }
   },
   "outputs": [],
   "source": [
    "from pypika.queries import Query, QueryBuilder\n",
    "from pypika.utils import builder, QueryException\n",
    "from typing import Any, Optional\n",
    "from enum import Enum\n",
    "\n",
    "class Dialects(Enum):\n",
    "    ADQL = 'adql'\n",
    "\n",
    "class ADQLQuery(Query):\n",
    "    @classmethod\n",
    "    def _builder(cls, **kwargs: Any) -> \"QueryBuilder\":\n",
    "        return ADQLQueryBuilder(**kwargs)\n",
    "\n",
    "class ADQLQueryBuilder(QueryBuilder):\n",
    "    QUOTE_CHAR = None\n",
    "    ALIAS_QUOTE_CHAR = '\"'\n",
    "    QUERY_ALIAS_QUOTE_CHAR = ''\n",
    "    QUERY_CLS = ADQLQuery\n",
    "\n",
    "    def __init__(self, **kwargs: Any) -> None:\n",
    "        super().__init__(dialect=Dialects.ADQL, **kwargs)\n",
    "        self._top = None\n",
    "        self._contains_point = None\n",
    "        self._contains_box = None\n",
    "\n",
    "    @builder\n",
    "    def top(self, value):\n",
    "        try:\n",
    "            self._top = int(value)\n",
    "        except ValueError:\n",
    "            raise QueryException('TOP value must be an integer')\n",
    "\n",
    "    def get_sql(self, *args, **kwargs):\n",
    "        return super(ADQLQueryBuilder, self).get_sql(*args, groupby_alias=False, **kwargs)\n",
    "\n",
    "    def _top_sql(self):\n",
    "        if self._top:\n",
    "            return 'TOP {} '.format(self._top)\n",
    "        else:\n",
    "            return ''\n",
    "\n",
    "    @builder\n",
    "    def contains_point(self, ra, dec, from_table, cone_radius):\n",
    "        self._contains_point = [ra, dec, from_table, cone_radius]\n",
    "\n",
    "    def _contains_point_sql(self):\n",
    "        if self._contains_point:\n",
    "            return \"CONTAINS(POINT('ICRS', {}, {}), CIRCLE('ICRS', {}.ra, {}.dec, {}))=1 AND \".format(\n",
    "                self._contains_point[0], self._contains_point[1], self._contains_point[2], self._contains_point[2], self._contains_point[3])\n",
    "        else:\n",
    "            return ''\n",
    "\n",
    "    @builder\n",
    "    def contains_box(self, ra, dec, from_table, width, height):\n",
    "        self._contains_box = [ra, dec, from_table, width, height]\n",
    "\n",
    "    def _contains_box_sql(self):\n",
    "        if self._contains_box:\n",
    "            return \"CONTAINS(POINT('ICRS', {}, {}), BOX('ICRS', {}.ra, {}.dec, {}, {}))=1 AND \".format(\n",
    "                self._contains_box[0], self._contains_box[1], self._contains_box[2], self._contains_box[2], self._contains_box[3], self._contains_box[4])\n",
    "        else:\n",
    "            return ''\n",
    "\n",
    "    def _select_sql(self, **kwargs: Any) -> str:\n",
    "        return \"SELECT {distinct}{top}{select}\".format(\n",
    "            top=self._top_sql(),\n",
    "            distinct=\"DISTINCT \" if self._distinct else \"\",\n",
    "            select=\",\".join(term.get_sql(with_alias=True, subquery=True, **kwargs) for term in self._selects)\n",
    "        )\n",
    "\n",
    "    @builder\n",
    "    def _where_sql(self, quote_char: Optional[str] = None, **kwargs: Any) -> str:\n",
    "        return \" WHERE {contains_point}{contains_box}{where}\".format(\n",
    "            contains_point=self._contains_point_sql(),\n",
    "            contains_box = self._contains_box_sql(),\n",
    "            where=self._wheres.get_sql(quote_char=quote_char, subquery=True, **kwargs)\n",
    "        )"
   ]
  },
  {
   "cell_type": "code",
   "execution_count": 74,
   "metadata": {
    "pycharm": {
     "name": "#%%\n"
    }
   },
   "outputs": [],
   "source": [
    "options = {'Filename': 'filename',\n",
    "           'Observation date': 'kw_DATE_OBS',\n",
    "           'Image type': 'kw_IMAGETYP',\n",
    "           'Right ascension': 'ra',\n",
    "           'Declination': 'dec',\n",
    "           'Object': 'kw_OBJECT',\n",
    "           'Filter': 'kw_FILTER'}\n",
    "options_reverse = {'filename': 'Filename',\n",
    "                   'kw_DATE_OBS': 'Observation date',\n",
    "                   'kw_IMAGETYP': 'Image type',\n",
    "                   'ra': 'Right ascension',\n",
    "                   'dec': 'Declination',\n",
    "                   'kw_OBJECT': 'Object',\n",
    "                   'kw_FILTER': 'Filter'}\n",
    "class CompileQuery(param.Parameterized):\n",
    "    begin_date = dt.datetime(2008, 5, 1, 12)\n",
    "    end_date = dt.datetime(2020, 4, 23, 12)\n",
    "    dates = param.DateRange((begin_date, end_date), precedence=1)\n",
    "    dates_order = param.Selector({'Descending': Order.desc, 'Ascending': Order.asc}, precedence=1)\n",
    "    reset_date_button = param.Action(lambda x: x.param.trigger('reset_date_button'), label='Reset date', precedence=1)\n",
    "    select_columns = param.ListSelector(default=['Filename',\n",
    "                                                 'Image type',\n",
    "                                                 'Filter',\n",
    "                                                 'Observation date',\n",
    "                                                 'Right ascension',\n",
    "                                                 'Declination',\n",
    "                                                 'Object'],\n",
    "                                        objects=options.keys(),\n",
    "                                        precedence=1)\n",
    "    ra_dec_not_null = param.Boolean(default=True, precedence=1)\n",
    "    object_or_coordinates = param.Selector(['Object', 'Coordinates'], precedence=1)\n",
    "    select_object = param.String(default='', precedence=1)\n",
    "    search_coordinates = param.String(default='' , precedence=-1)\n",
    "    box_or_cone = param.Selector(['Box', 'Cone'], precedence=1)\n",
    "    cone_radius = param.Number(default=20, bounds=(5, 40), precedence=-1)\n",
    "    box_width = param.Number(1700, precedence=1)\n",
    "    box_height = param.Number(1100, precedence=1)\n",
    "    nr_entries = param.Number(100, precedence=1)\n",
    "\n",
    "    @param.depends('box_or_cone', watch=True)\n",
    "    def box_cone_search(self):\n",
    "        if self.box_or_cone == 'Box':\n",
    "            self.param.cone_radius.precedence = -1\n",
    "            self.param.box_width.precedence = 1\n",
    "            self.param.box_height.precedence = 1\n",
    "        else:\n",
    "            self.param.cone_radius.precedence = 1\n",
    "            self.param.box_width.precedence = -1\n",
    "            self.param.box_height.precedence = -1\n",
    "\n",
    "    @param.depends('object_or_coordinates', watch=True)\n",
    "    def object_coordinates_search(self):\n",
    "        if self.object_or_coordinates == 'Object':\n",
    "            self.param.select_object.precedence = 1\n",
    "            self.param.search_coordinates.precedence = -1\n",
    "        else:\n",
    "            self.select_object = ''\n",
    "            self.param.select_object.precedence = -1\n",
    "            self.param.search_coordinates.precedence = 1\n",
    "\n",
    "    @param.depends('reset_date_button', watch=True)\n",
    "    def reset_date(self):\n",
    "        self.dates = (dt.datetime(2008, 5, 1, 12), dt.datetime(2022, 5, 1, 12))\n",
    "\n",
    "    def table_string(self):\n",
    "        table_name = 'observations.raw'\n",
    "        return table_name\n",
    "\n",
    "    def from_query(self):\n",
    "        raw_observations = Table(self.table_string())\n",
    "        return raw_observations\n",
    "\n",
    "    @param.depends('select_columns')\n",
    "    def select_query(self):\n",
    "        select_options = ''\n",
    "        for i in self.select_columns:\n",
    "            select_options += str(self.from_query()).strip('\"') + '.' + options[i] + ','\n",
    "        return select_options.rstrip(',')\n",
    "\n",
    "    @param.depends('select_object')\n",
    "    def find_object(self):\n",
    "        if self.select_object == '':\n",
    "            return True\n",
    "        else:\n",
    "            object_name = self.select_object\n",
    "            with warnings.catch_warnings():\n",
    "                warnings.filterwarnings('error')\n",
    "                try:\n",
    "                    simbad_object = Simbad.query_object(object_name)\n",
    "                    coordinates = SkyCoord(simbad_object['RA'], simbad_object['DEC'], unit=(u.hourangle, u.deg))\n",
    "                    object_ra, object_dec = coordinates.ra.deg[0], coordinates.dec.deg[0]\n",
    "                    return object_ra, object_dec\n",
    "                except (Warning, TableParseError):\n",
    "                    return False\n",
    "\n",
    "    @param.depends('search_coordinates')\n",
    "    def coordinates_to_degrees(self):\n",
    "        if self.search_coordinates == '':\n",
    "            return\n",
    "        right_ascension, declination = self.search_coordinates.split(',')\n",
    "        if len(right_ascension) > 1:\n",
    "            if float(right_ascension.split(' ')[0]) >= 24:\n",
    "                right_ascension = Angle(right_ascension, unit=u.degree)\n",
    "                right_ascension.wrap_at(360 * u.degree, inplace=True)\n",
    "            else:\n",
    "                right_ascension = Angle(right_ascension, unit=u.hourangle)\n",
    "                right_ascension.wrap_at(24 * u.hourangle, inplace=True)\n",
    "        else:\n",
    "            if float(right_ascension) >= 24:\n",
    "                right_ascension = Angle(right_ascension, unit=u.degree)\n",
    "                right_ascension.wrap_at(360 * u.degree, inplace=True)\n",
    "            else:\n",
    "                right_ascension = Angle(right_ascension, unit=u.hourangle)\n",
    "                right_ascension.wrap_at(24 * u.hourangle, inplace=True)\n",
    "        declination = Angle(declination, unit=u.deg)\n",
    "        right_ascension = right_ascension.deg\n",
    "        declination = declination.deg\n",
    "        if declination < -90:\n",
    "            while declination < -90:\n",
    "                declination += 90\n",
    "        elif declination > 90:\n",
    "            while declination > 90:\n",
    "                declination -= 90\n",
    "        return right_ascension, declination\n",
    "\n",
    "    @param.depends('ra_dec_not_null')\n",
    "    def not_null_check(self):\n",
    "        if self.ra_dec_not_null:\n",
    "            return True\n",
    "\n",
    "    @param.depends('dates')\n",
    "    def date_query(self):\n",
    "        start_date = Time(self.dates[0]).jd\n",
    "        end_date = Time(self.dates[1]).jd\n",
    "        return start_date, end_date"
   ]
  },
  {
   "cell_type": "code",
   "execution_count": 75,
   "outputs": [],
   "source": [
    "# test = CompileQuery()\n",
    "# test.coordinates_to_degrees()"
   ],
   "metadata": {
    "collapsed": false,
    "pycharm": {
     "name": "#%%\n"
    }
   }
  },
  {
   "cell_type": "code",
   "execution_count": 118,
   "outputs": [],
   "source": [
    "class FetchData(CompileQuery):\n",
    "    search_object_button = param.Action(lambda x: x.param.trigger('search_object_button'), label='Search', precedence=5)\n",
    "    reset_search_button = param.Action(lambda x: x.param.trigger('reset_search_button'), label='Reset search', precedence=5)\n",
    "\n",
    "    @param.depends('reset_search_button', watch=True)\n",
    "    def reset_search(self):\n",
    "        self.dates = (self.begin_date, self.end_date)\n",
    "        self.ra_dec_not_null = True\n",
    "        self.select_object = ''\n",
    "        self.cone_radius = 20\n",
    "        self.param.trigger('search_object_button')\n",
    "\n",
    "    @param.depends('search_object_button')\n",
    "    def data(self):\n",
    "        if not self.find_object():\n",
    "            return\n",
    "        observation_table = self.from_query()\n",
    "        dates = self.date_query()\n",
    "        query = ADQLQuery.from_(\n",
    "            observation_table\n",
    "        ).select(\n",
    "            self.select_query()\n",
    "        ).where(\n",
    "            Criterion.all([\n",
    "                observation_table.ra.isnotnull() if self.not_null_check() else EmptyCriterion(),\n",
    "                observation_table.dec.isnotnull() if self.not_null_check() else EmptyCriterion(),\n",
    "                observation_table.obs_jd[dates[0]:dates[1]]\n",
    "            ])\n",
    "        ).orderby(observation_table.obs_jd, order=self.dates_order).top(self.nr_entries)\n",
    "        if self.select_object != '':\n",
    "            right_ascension, declination = self.find_object()\n",
    "            if self.box_or_cone == 'Cone':\n",
    "                query = query.contains_point(right_ascension, declination, self.table_string(), self.cone_radius/60)\n",
    "            elif self.box_or_cone == 'Box':\n",
    "                query = query.contains_box(self.find_object()[0], self.find_object()[1], self.table_string(), self.box_width/3600, self.box_height/3600)\n",
    "        elif self.select_object == '' and self.search_coordinates != '':\n",
    "            right_ascension, declination = self.coordinates_to_degrees()\n",
    "            if self.box_or_cone == 'Cone':\n",
    "                query = query.contains_point(right_ascension, declination, self.table_string(), self.cone_radius/60)\n",
    "            elif self.box_or_cone == 'Box':\n",
    "                query = query.contains_box(right_ascension, declination, self.table_string(), self.box_width/3600, self.box_height/3600)\n",
    "        result = service.search(query.get_sql())\n",
    "        data_pandas = result.to_table().to_pandas()\n",
    "        data_pandas['ra'] = data_pandas['ra'].apply(self.ra_to_hms)\n",
    "        data_pandas['dec'] = data_pandas['dec'].apply(self.dec_to_dms)\n",
    "        return data_pandas\n",
    "\n",
    "    def ra_to_hms(self, nr_angle):\n",
    "        angle = Angle(nr_angle, u.degree)\n",
    "        return angle.to_string(unit=u.hour, sep=('h:', 'm:', 's'), precision=3)\n",
    "\n",
    "    def dec_to_dms(self, nr_angle):\n",
    "        angle = Angle(nr_angle, u.degree)\n",
    "        return angle.to_string(unit=u.degree, sep=('d:', 'm:', 's'), precision=3)\n",
    "\n",
    "    @param.depends('search_object_button')\n",
    "    def display_object_error(self):\n",
    "        if not self.find_object():\n",
    "            message = \"SIMBAD could not find the object \" + str(self.select_object) + \" that you searched for.\"\n",
    "            pn.state.notifications.error(message, duration=0)\n",
    "\n",
    "    @param.depends('search_object_button', 'data')\n",
    "    def display_data_error(self):\n",
    "        if self.find_object() and self.data().values.size == 0:\n",
    "            message = \"No entries could be found with the options you specified.\"\n",
    "            pn.state.notifications.error(message, duration=0)"
   ],
   "metadata": {
    "collapsed": false,
    "pycharm": {
     "name": "#%%\n"
    }
   }
  },
  {
   "cell_type": "code",
   "execution_count": 322,
   "outputs": [],
   "source": [
    "class CreateTable(FetchData):\n",
    "    table = param.DataFrame(columns=CompileQuery().select_columns, precedence=-1)\n",
    "    if FetchData().data() is None:\n",
    "        table.default = pd.DataFrame(columns=CompileQuery().select_columns)\n",
    "    else:\n",
    "        table.default = FetchData().data()\n",
    "        table.columns = options_reverse\n",
    "\n",
    "    def __init__(self, **params):\n",
    "        super().__init__(**params)\n",
    "        self.table_widget = pn.widgets.Tabulator(self.table,\n",
    "                                                 disabled=True,\n",
    "                                                 pagination='local',\n",
    "                                                 show_index=False,\n",
    "                                                 layout='fit_columns',\n",
    "                                                 selectable='checkbox-single',\n",
    "                                                 text_align='left',\n",
    "                                                 min_height=500,\n",
    "                                                 titles=options_reverse)\n",
    "\n",
    "        self.selected_table_widget = pn.widgets.Tabulator(disabled=True,\n",
    "                                                          pagination='local',\n",
    "                                                          show_index=False,\n",
    "                                                          layout='fit_data',\n",
    "                                                          selectable='checkbox-single',\n",
    "                                                          text_align='left',\n",
    "                                                          min_height=500,\n",
    "                                                          titles=options_reverse)\n",
    "\n",
    "    @param.depends('data')\n",
    "    def full_table(self):\n",
    "        if self.data() is None:\n",
    "            self.table_widget.value = pd.DataFrame(columns=self.select_columns)\n",
    "        else:\n",
    "            self.table_widget.value = self.data()\n",
    "            self.table_widget.titles = options_reverse\n",
    "        return self.table_widget\n",
    "\n",
    "    @param.depends('table_widget.selected_dataframe')\n",
    "    def selected_table(self):\n",
    "        selection = self.table_widget.selected_dataframe\n",
    "        if selection.values.size == 0:\n",
    "            self.selected_table_widget.value = pd.DataFrame(columns=['filename', 'kw_FILTER', 'kw_OBJECT'])\n",
    "        else:\n",
    "            selection = selection[['filename', 'kw_FILTER', 'kw_OBJECT']]\n",
    "            selection['filename'] = selection['filename'].apply(self.give_file_name)\n",
    "            self.selected_table_widget.value = selection\n",
    "        return self.selected_table_widget\n",
    "\n",
    "    def give_file_name(self, filepath):\n",
    "        return Path(filepath).name"
   ],
   "metadata": {
    "collapsed": false,
    "pycharm": {
     "name": "#%%\n"
    }
   }
  },
  {
   "cell_type": "code",
   "execution_count": null,
   "outputs": [],
   "source": [
    "class CreatePlots(CreateTable):\n",
    "\n",
    "    # @param.depends('selected_table_widget.selected_dataframe')\n",
    "    # def create_plot(self):\n",
    "    #     home_dir = '../Data/Raw/'\n",
    "    #     filepath = home_dir + self.selected_table_widget.value['filename'].iloc[0]\n",
    "    #     fits_file = fits.open(filepath)\n",
    "    #     fits_data = fits_file[0].data\n",
    "    #     vmin = np.percentile(fits_data, 5)\n",
    "    #     vmax = np.percentile(fits_data, 95)\n",
    "    #     img = self.ax.imshow(fits_data, interpolation='none', origin='lower', cmap=cm.gray, vmin=vmin, vmax=vmax)\n",
    "    #     return pn.pane.Matplotlib(self.fig, tight=True, sizing_mode='scale_both')\n",
    "\n",
    "    fits_file = fits.open('../Data/Raw/200422_Li_.00000040.NGC_5907.FIT')\n",
    "    fits_data = fits_file[0].data\n",
    "    headers = fits_file[0].header\n",
    "    vmin = np.percentile(fits_data, 5)\n",
    "    vmax = np.percentile(fits_data, 95)\n",
    "\n",
    "    def create_plot(self):\n",
    "        fig0 = Figure(figsize=(8, 6))\n",
    "        ax0 = fig0.subplots()\n",
    "        img = ax0.imshow(self.fits_data, interpolation='none', origin='lower', cmap=cm.gray, vmin=self.vmin, vmax=self.vmax)\n",
    "        fig0.colorbar(img)\n",
    "        return pn.pane.Matplotlib(fig0, tight=True, sizing_mode='scale_both')"
   ],
   "metadata": {
    "collapsed": false,
    "pycharm": {
     "name": "#%%\n"
    }
   }
  },
  {
   "cell_type": "code",
   "execution_count": null,
   "outputs": [],
   "source": [
    "# test = CreatePlots()\n",
    "# for key in test.headers:\n",
    "#     print(key, test.headers[key])"
   ],
   "metadata": {
    "collapsed": false,
    "pycharm": {
     "name": "#%%\n"
    }
   }
  },
  {
   "cell_type": "code",
   "execution_count": null,
   "outputs": [],
   "source": [
    "class CreateView(CreatePlots):\n",
    "    def panel(self):\n",
    "        widgets = {\n",
    "            'dates': pn.widgets.DatetimeRangePicker,\n",
    "            'dates_order': pn.widgets.Select,\n",
    "            'reset_date_button': {'widget_type': pn.widgets.Button, 'button_type': 'warning'},\n",
    "            'select_columns': {'widget_type': pn.widgets.CrossSelector, 'definition_order': False},\n",
    "            'ra_dec_not_null': pn.widgets.Checkbox,\n",
    "            'object_or_coordinates': {'widget_type': pn.widgets.RadioBoxGroup, 'inline': True},\n",
    "            'select_object': pn.widgets.TextInput,\n",
    "            'search_coordinates': {'widget_type': pn.widgets.TextInput, 'name': 'Coordinates (hh mm ss.ms, dd mm ss.ms)'},\n",
    "            'box_or_cone': {'widget_type': pn.widgets.RadioBoxGroup, 'inline': True},\n",
    "            'cone_radius': {'widget_type': pn.widgets.FloatSlider, 'name': 'Cone radius (arc minutes)' , 'step': 0.5},\n",
    "            'box_width': {'widget_type': pn.widgets.FloatInput, 'name': 'Box width (arc seconds)'},\n",
    "            'box_height': {'widget_type': pn.widgets.FloatInput, 'name': 'Box height (arc seconds)'},\n",
    "            'nr_entries': {'widget_type': pn.widgets.FloatInput, 'name': '# of entries'},\n",
    "            'search_object_button': {'widget_type': pn.widgets.Button, 'button_type': 'primary'},\n",
    "            'reset_search_button': {'widget_type': pn.widgets.Button, 'button_type': 'warning'}\n",
    "        }\n",
    "        settings = pn.Row(\n",
    "            pn.Param(self, widgets=widgets, width=385, sizing_mode=\"fixed\", name=\"Settings\")\n",
    "        )\n",
    "\n",
    "        # settings = pn.Column(\n",
    "        #     pn.widgets.DatetimeRangePicker.from_param(self.param.dates),\n",
    "        #     pn.widgets.Select.from_param(self.param.dates_order),\n",
    "        #     pn.widgets.Button.from_param(self.param.reset_date_button, button_type='warning'),\n",
    "        #     pn.widgets.CrossSelector.from_param(self.param.select_columns, definition_order=False),\n",
    "        #     pn.widgets.Checkbox.from_param(self.param.ra_dec_not_null),\n",
    "        #     pn.widgets.TextInput.from_param(self.param.select_object),\n",
    "        #     pn.widgets.RadioBoxGroup.from_param(self.param.box_or_cone, inline=True),\n",
    "        #     pn.widgets.FloatSlider.from_param(self.param.cone_radius, name='Cone radius (arc minutes)', step=0.5),\n",
    "        #     pn.Row(\n",
    "        #         pn.widgets.FloatInput.from_param(self.param.box_width, name='Box width (arc seconds)'),\n",
    "        #         pn.widgets.FloatInput.from_param(self.param.box_height, name='Box height (arc seconds)'),\n",
    "        #     ),\n",
    "        #     pn.widgets.Button.from_param(self.param.search_object_button, button_type='primary'),\n",
    "        #     pn.widgets.Button.from_param(self.param.reset_search_button, button_type='warning')\n",
    "        # )\n",
    "        bootstrap.sidebar.append(settings)\n",
    "        tabs = pn.Tabs(\n",
    "            ('Data Table', pn.Column(self.full_table, self.display_object_error, self.display_data_error)),\n",
    "            ('Data Plotting', pn.Row(pn.Card(self.selected_table), pn.Card(self.create_plot)))\n",
    "        )\n",
    "        bootstrap.main.append(tabs)\n",
    "        return bootstrap"
   ],
   "metadata": {
    "collapsed": false,
    "pycharm": {
     "name": "#%%\n"
    }
   }
  },
  {
   "cell_type": "code",
   "execution_count": 246,
   "metadata": {
    "pycharm": {
     "name": "#%%\n"
    }
   },
   "outputs": [],
   "source": [
    "bootstrap = pn.template.BootstrapTemplate(title='Bootstrap Template', sidebar_width=400)\n",
    "\n",
    "test = CreateView()\n",
    "test.panel().servable();\n",
    "# print(test.selected_table().value)"
   ]
  },
  {
   "cell_type": "code",
   "execution_count": 192,
   "outputs": [
    {
     "data": {
      "text/plain": "    id                  ra                 dec  d_PLATE_SCALE  kw_NAXIS1  \\\n0  378  20h03m11.06118288s  58d57m57.91395276s        1.13256       1536   \n1  379  20h03m11.05822824s  58d57m57.93165504s        1.13229       1536   \n2  380  20h03m11.06467872s  58d57m57.92580324s        1.13261       1536   \n3  381  20h03m11.05478688s   58d57m57.9426084s        1.13231       1536   \n4  382  20h03m11.06029512s  58d57m57.91287672s        1.13234       1536   \n5  383  20h03m11.05380696s  58d57m57.90242952s        1.13269       1536   \n6  384   20h03m11.0636928s  58d57m57.94178364s        1.13255       1536   \n7  385  20h02m12.79970016s   58d56m25.3914414s        1.13249       1536   \n8  386  20h03m11.05394664s  58d57m57.88801512s        1.13233       1536   \n9  387  20h03m11.05935648s  58d57m57.91380336s        1.13255       1536   \n\n   kw_NAXIS2  \n0       1024  \n1       1024  \n2       1024  \n3       1024  \n4       1024  \n5       1024  \n6       1024  \n7       1024  \n8       1024  \n9       1024  ",
      "text/html": "<div>\n<style scoped>\n    .dataframe tbody tr th:only-of-type {\n        vertical-align: middle;\n    }\n\n    .dataframe tbody tr th {\n        vertical-align: top;\n    }\n\n    .dataframe thead th {\n        text-align: right;\n    }\n</style>\n<table border=\"1\" class=\"dataframe\">\n  <thead>\n    <tr style=\"text-align: right;\">\n      <th></th>\n      <th>id</th>\n      <th>ra</th>\n      <th>dec</th>\n      <th>d_PLATE_SCALE</th>\n      <th>kw_NAXIS1</th>\n      <th>kw_NAXIS2</th>\n    </tr>\n  </thead>\n  <tbody>\n    <tr>\n      <th>0</th>\n      <td>378</td>\n      <td>20h03m11.06118288s</td>\n      <td>58d57m57.91395276s</td>\n      <td>1.13256</td>\n      <td>1536</td>\n      <td>1024</td>\n    </tr>\n    <tr>\n      <th>1</th>\n      <td>379</td>\n      <td>20h03m11.05822824s</td>\n      <td>58d57m57.93165504s</td>\n      <td>1.13229</td>\n      <td>1536</td>\n      <td>1024</td>\n    </tr>\n    <tr>\n      <th>2</th>\n      <td>380</td>\n      <td>20h03m11.06467872s</td>\n      <td>58d57m57.92580324s</td>\n      <td>1.13261</td>\n      <td>1536</td>\n      <td>1024</td>\n    </tr>\n    <tr>\n      <th>3</th>\n      <td>381</td>\n      <td>20h03m11.05478688s</td>\n      <td>58d57m57.9426084s</td>\n      <td>1.13231</td>\n      <td>1536</td>\n      <td>1024</td>\n    </tr>\n    <tr>\n      <th>4</th>\n      <td>382</td>\n      <td>20h03m11.06029512s</td>\n      <td>58d57m57.91287672s</td>\n      <td>1.13234</td>\n      <td>1536</td>\n      <td>1024</td>\n    </tr>\n    <tr>\n      <th>5</th>\n      <td>383</td>\n      <td>20h03m11.05380696s</td>\n      <td>58d57m57.90242952s</td>\n      <td>1.13269</td>\n      <td>1536</td>\n      <td>1024</td>\n    </tr>\n    <tr>\n      <th>6</th>\n      <td>384</td>\n      <td>20h03m11.0636928s</td>\n      <td>58d57m57.94178364s</td>\n      <td>1.13255</td>\n      <td>1536</td>\n      <td>1024</td>\n    </tr>\n    <tr>\n      <th>7</th>\n      <td>385</td>\n      <td>20h02m12.79970016s</td>\n      <td>58d56m25.3914414s</td>\n      <td>1.13249</td>\n      <td>1536</td>\n      <td>1024</td>\n    </tr>\n    <tr>\n      <th>8</th>\n      <td>386</td>\n      <td>20h03m11.05394664s</td>\n      <td>58d57m57.88801512s</td>\n      <td>1.13233</td>\n      <td>1536</td>\n      <td>1024</td>\n    </tr>\n    <tr>\n      <th>9</th>\n      <td>387</td>\n      <td>20h03m11.05935648s</td>\n      <td>58d57m57.91380336s</td>\n      <td>1.13255</td>\n      <td>1536</td>\n      <td>1024</td>\n    </tr>\n  </tbody>\n</table>\n</div>"
     },
     "execution_count": 192,
     "metadata": {},
     "output_type": "execute_result"
    }
   ],
   "source": [
    "# query = \"\"\"\n",
    "# SELECT TOP 10 id, ra, dec, d_PLATE_SCALE, kw_NAXIS1, kw_NAXIS2\n",
    "# FROM observations.raw\n",
    "# WHERE ra IS NOT NULL\n",
    "# AND dec IS NOT NULL\n",
    "# \"\"\"\n",
    "# result = service.search(query)\n",
    "# table = result.to_table().to_pandas()\n",
    "#\n",
    "# def ra_to_hms(nr_angle):\n",
    "#     angle = Angle(nr_angle, u.degree)\n",
    "#     return angle.to_string(unit=u.hour)\n",
    "#\n",
    "# def dec_to_dms(nr_angle):\n",
    "#     angle = Angle(nr_angle, u.degree)\n",
    "#     return angle.to_string(unit=u.degree, sep=('d', 'm', 's'))\n",
    "#\n",
    "# table['ra'] = table['ra'].apply(ra_to_hms)\n",
    "# table['dec'] = table['dec'].apply(dec_to_dms)\n",
    "# table"
   ],
   "metadata": {
    "collapsed": false,
    "pycharm": {
     "name": "#%%\n"
    }
   }
  },
  {
   "cell_type": "code",
   "execution_count": 194,
   "outputs": [
    {
     "name": "stdout",
     "output_type": "stream",
     "text": [
      "58d57m57.8988s\n"
     ]
    }
   ],
   "source": [
    "# print(dec_to_dms(58.966083))"
   ],
   "metadata": {
    "collapsed": false,
    "pycharm": {
     "name": "#%%\n"
    }
   }
  },
  {
   "cell_type": "code",
   "execution_count": 15,
   "outputs": [
    {
     "name": "stdout",
     "output_type": "stream",
     "text": [
      "Launching server at http://localhost:57336\n"
     ]
    }
   ],
   "source": [
    "# class Precedence(param.Parameterized):\n",
    "#\n",
    "#     # Parameters of the dummy app.\n",
    "#     x = param.Number(precedence=-1)\n",
    "#     y = param.Boolean(precedence=3)\n",
    "#     z = param.String(precedence=2)\n",
    "#\n",
    "#     # Parameters of the control app.\n",
    "#     x_precedence = param.Number(default=x.precedence, bounds=(-10, 10), step=1)\n",
    "#     y_precedence = param.Number(default=y.precedence, bounds=(-10, 10), step=1)\n",
    "#     z_precedence = param.Number(default=z.precedence, bounds=(-10, 10), step=1)\n",
    "#     dummy_app_display_threshold = param.Number(default=1, bounds=(-10, 10), step=1)\n",
    "#\n",
    "#     def __init__(self):\n",
    "#         super().__init__()\n",
    "#         # Building the dummy app as a Param pane in here so that its ``display_threshold``\n",
    "#         # parameter can be accessed and linked via @param.depends(...).\n",
    "#         self.dummy_app = pn.Param(\n",
    "#             self.param,\n",
    "#             parameters=[\"x\", \"y\", \"z\"],\n",
    "#             widgets={\n",
    "#                 \"x\": {\"background\": \"#fac400\"},\n",
    "#                 \"y\": {\"background\": \"#07d900\"},\n",
    "#                 \"z\": {\"background\": \"#00c0d9\"},\n",
    "#             },\n",
    "#             show_name=False\n",
    "#         )\n",
    "#\n",
    "#     # Linking the two apps here.\n",
    "#     @param.depends(\"dummy_app_display_threshold\", \"x_precedence\", \"y_precedence\", \"z_precedence\", watch=True)\n",
    "#     def update_precedences_and_threshold(self):\n",
    "#         self.param.x.precedence = self.x_precedence\n",
    "#         self.param.y.precedence = self.y_precedence\n",
    "#         self.param.z.precedence = self.z_precedence\n",
    "#         self.dummy_app.display_threshold = self.dummy_app_display_threshold\n",
    "#\n",
    "# precedence_model = Precedence()\n",
    "#\n",
    "# control_app = pn.Param(\n",
    "#     precedence_model.param,\n",
    "#     parameters=[\"x_precedence\", \"y_precedence\", \"z_precedence\", \"dummy_app_display_threshold\"],\n",
    "#     widgets={\n",
    "#         \"x_precedence\": {\"background\": \"#fac400\"},\n",
    "#         \"y_precedence\": {\"background\": \"#07d900\"},\n",
    "#         \"z_precedence\": {\"background\": \"#00c0d9\"},\n",
    "#     },\n",
    "#     show_name=False\n",
    "# )\n",
    "#\n",
    "# interactive_precedence_app = pn.Column(\n",
    "#     \"## Precedence Example\",\n",
    "#     \"Moving the sliders of the control app should update the display of the dummy app.\",\n",
    "#     pn.Row(\n",
    "#         pn.Column(\"**Control app**\", control_app),\n",
    "#         pn.Column(\"**Dummy app**\", precedence_model.dummy_app)\n",
    "#     )\n",
    "# )\n",
    "# interactive_precedence_app.show();"
   ],
   "metadata": {
    "collapsed": false,
    "pycharm": {
     "name": "#%%\n"
    }
   }
  },
  {
   "cell_type": "code",
   "execution_count": null,
   "outputs": [],
   "source": [],
   "metadata": {
    "collapsed": false,
    "pycharm": {
     "name": "#%%\n"
    }
   }
  }
 ],
 "metadata": {
  "finalized": {
   "timestamp": 1651853314360,
   "trusted": false
  },
  "kernelspec": {
   "display_name": "Python 3 (ipykernel)",
   "language": "python",
   "name": "python3"
  },
  "language_info": {
   "codemirror_mode": {
    "name": "ipython",
    "version": 3
   },
   "file_extension": ".py",
   "mimetype": "text/x-python",
   "name": "python",
   "nbconvert_exporter": "python",
   "pygments_lexer": "ipython3",
   "version": "3.9.7"
  },
  "require": {
   "paths": {
    "buttons.colvis": "https://cdn.datatables.net/buttons/1.5.6/js/buttons.colVis.min",
    "buttons.flash": "https://cdn.datatables.net/buttons/1.5.6/js/buttons.flash.min",
    "buttons.html5": "https://cdn.datatables.net/buttons/1.5.6/js/buttons.html5.min",
    "buttons.print": "https://cdn.datatables.net/buttons/1.5.6/js/buttons.print.min",
    "chartjs": "https://cdnjs.cloudflare.com/ajax/libs/Chart.js/2.8.0/Chart",
    "d3": "https://d3js.org/d3.v5.min",
    "d3-array": "https://d3js.org/d3-array.v2.min",
    "datatables.net": "https://cdn.datatables.net/1.10.18/js/jquery.dataTables",
    "datatables.net-buttons": "https://cdn.datatables.net/buttons/1.5.6/js/dataTables.buttons.min",
    "datatables.responsive": "https://cdn.datatables.net/responsive/2.2.2/js/dataTables.responsive.min",
    "datatables.scroller": "https://cdn.datatables.net/scroller/2.0.0/js/dataTables.scroller.min",
    "datatables.select": "https://cdn.datatables.net/select/1.3.0/js/dataTables.select.min",
    "jszip": "https://cdnjs.cloudflare.com/ajax/libs/jszip/2.5.0/jszip.min",
    "moment": "https://cdnjs.cloudflare.com/ajax/libs/moment.js/2.8.0/moment",
    "pdfmake": "https://cdnjs.cloudflare.com/ajax/libs/pdfmake/0.1.36/pdfmake.min",
    "vfsfonts": "https://cdnjs.cloudflare.com/ajax/libs/pdfmake/0.1.36/vfs_fonts"
   },
   "shim": {
    "buttons.colvis": {
     "deps": [
      "jszip",
      "datatables.net-buttons"
     ]
    },
    "buttons.flash": {
     "deps": [
      "jszip",
      "datatables.net-buttons"
     ]
    },
    "buttons.html5": {
     "deps": [
      "jszip",
      "datatables.net-buttons"
     ]
    },
    "buttons.print": {
     "deps": [
      "jszip",
      "datatables.net-buttons"
     ]
    },
    "chartjs": {
     "deps": [
      "moment"
     ]
    },
    "datatables.net": {
     "exports": "$.fn.dataTable"
    },
    "datatables.net-buttons": {
     "deps": [
      "datatables.net"
     ]
    },
    "pdfmake": {
     "deps": [
      "datatables.net"
     ]
    },
    "vfsfonts": {
     "deps": [
      "datatables.net"
     ]
    }
   }
  }
 },
 "nbformat": 4,
 "nbformat_minor": 1
}